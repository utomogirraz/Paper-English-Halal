{
 "cells": [
  {
   "cell_type": "code",
   "execution_count": 26,
   "metadata": {},
   "outputs": [],
   "source": [
    "import pandas as pd\n",
    "import numpy as np\n",
    "from sklearn.model_selection import train_test_split\n",
    "from sklearn.linear_model import LogisticRegression\n",
    "from sklearn import metrics\n",
    "import matplotlib.pyplot as plt\n",
    "from collections import Counter\n",
    "from sklearn.datasets import make_classification\n",
    "from imblearn.over_sampling import SMOTE\n",
    "from imblearn.under_sampling import RandomUnderSampler\n",
    "from imblearn.pipeline import Pipeline\n",
    "from matplotlib import pyplot\n",
    "from numpy import where"
   ]
  },
  {
   "cell_type": "code",
   "execution_count": null,
   "metadata": {},
   "outputs": [],
   "source": []
  },
  {
   "cell_type": "code",
   "execution_count": 27,
   "metadata": {},
   "outputs": [
    {
     "data": {
      "text/html": [
       "<div>\n",
       "<style scoped>\n",
       "    .dataframe tbody tr th:only-of-type {\n",
       "        vertical-align: middle;\n",
       "    }\n",
       "\n",
       "    .dataframe tbody tr th {\n",
       "        vertical-align: top;\n",
       "    }\n",
       "\n",
       "    .dataframe thead th {\n",
       "        text-align: right;\n",
       "    }\n",
       "</style>\n",
       "<table border=\"1\" class=\"dataframe\">\n",
       "  <thead>\n",
       "    <tr style=\"text-align: right;\">\n",
       "      <th></th>\n",
       "      <th>Unnamed: 0</th>\n",
       "      <th>from</th>\n",
       "      <th>Ingredient1_x</th>\n",
       "      <th>to</th>\n",
       "      <th>Ingredient2_x</th>\n",
       "      <th>similarity_x</th>\n",
       "      <th>LabelingANN</th>\n",
       "      <th>URIFrom</th>\n",
       "      <th>Ingredient1_y</th>\n",
       "      <th>URITo</th>\n",
       "      <th>Ingredient2_y</th>\n",
       "      <th>similarity_y</th>\n",
       "      <th>Labeling</th>\n",
       "      <th>TrueFalse</th>\n",
       "    </tr>\n",
       "  </thead>\n",
       "  <tbody>\n",
       "    <tr>\n",
       "      <th>0</th>\n",
       "      <td>0</td>\n",
       "      <td>dua kelinci kacang sangrai</td>\n",
       "      <td>gula</td>\n",
       "      <td>indomaret kacang bali</td>\n",
       "      <td>garam</td>\n",
       "      <td>1.000000</td>\n",
       "      <td>1</td>\n",
       "      <td>http://halal.addi.is.its.ac.id/foodproducts/Du...</td>\n",
       "      <td>gula</td>\n",
       "      <td>http://halal.addi.is.its.ac.id/foodproducts/In...</td>\n",
       "      <td>garam</td>\n",
       "      <td>1.000000</td>\n",
       "      <td>1</td>\n",
       "      <td>1</td>\n",
       "    </tr>\n",
       "    <tr>\n",
       "      <th>1</th>\n",
       "      <td>1</td>\n",
       "      <td>ensure vanilla</td>\n",
       "      <td>vitamin</td>\n",
       "      <td>ensure nutrition powder fos vanila</td>\n",
       "      <td>vitamin</td>\n",
       "      <td>1.000000</td>\n",
       "      <td>1</td>\n",
       "      <td>http://halal.addi.is.its.ac.id/foodproducts/En...</td>\n",
       "      <td>vitamin</td>\n",
       "      <td>http://halal.addi.is.its.ac.id/foodproducts/En...</td>\n",
       "      <td>vitamin</td>\n",
       "      <td>1.000000</td>\n",
       "      <td>1</td>\n",
       "      <td>1</td>\n",
       "    </tr>\n",
       "    <tr>\n",
       "      <th>2</th>\n",
       "      <td>2</td>\n",
       "      <td>Sarimi Goreng Rasa Ayam Kremes Isi 2</td>\n",
       "      <td>Chili Powder</td>\n",
       "      <td>Sarimi Goreng Rasa Ayam Kecap Isi 2</td>\n",
       "      <td>Vegetable Oil</td>\n",
       "      <td>1.000000</td>\n",
       "      <td>1</td>\n",
       "      <td>http://halal.addi.is.its.ac.id/foodproducts/Sa...</td>\n",
       "      <td>Chili Powder</td>\n",
       "      <td>http://halal.addi.is.its.ac.id/foodproducts/Sa...</td>\n",
       "      <td>Vegetable Oil</td>\n",
       "      <td>1.000000</td>\n",
       "      <td>1</td>\n",
       "      <td>1</td>\n",
       "    </tr>\n",
       "    <tr>\n",
       "      <th>3</th>\n",
       "      <td>3</td>\n",
       "      <td>gery wafer roll chocolatos dark</td>\n",
       "      <td>perisa sintetik</td>\n",
       "      <td>chocolatos wafer roll dark</td>\n",
       "      <td>perisa sintetik</td>\n",
       "      <td>1.000000</td>\n",
       "      <td>1</td>\n",
       "      <td>http://halal.addi.is.its.ac.id/foodproducts/Ge...</td>\n",
       "      <td>perisa sintetik</td>\n",
       "      <td>http://halal.addi.is.its.ac.id/foodproducts/Ch...</td>\n",
       "      <td>perisa sintetik</td>\n",
       "      <td>1.000000</td>\n",
       "      <td>1</td>\n",
       "      <td>1</td>\n",
       "    </tr>\n",
       "    <tr>\n",
       "      <th>4</th>\n",
       "      <td>4</td>\n",
       "      <td>regal marie</td>\n",
       "      <td>soda kue</td>\n",
       "      <td>regal marie special</td>\n",
       "      <td>soda kue</td>\n",
       "      <td>1.000000</td>\n",
       "      <td>1</td>\n",
       "      <td>http://halal.addi.is.its.ac.id/foodproducts/Re...</td>\n",
       "      <td>soda kue</td>\n",
       "      <td>http://halal.addi.is.its.ac.id/foodproducts/Re...</td>\n",
       "      <td>soda kue</td>\n",
       "      <td>1.000000</td>\n",
       "      <td>1</td>\n",
       "      <td>1</td>\n",
       "    </tr>\n",
       "    <tr>\n",
       "      <th>...</th>\n",
       "      <td>...</td>\n",
       "      <td>...</td>\n",
       "      <td>...</td>\n",
       "      <td>...</td>\n",
       "      <td>...</td>\n",
       "      <td>...</td>\n",
       "      <td>...</td>\n",
       "      <td>...</td>\n",
       "      <td>...</td>\n",
       "      <td>...</td>\n",
       "      <td>...</td>\n",
       "      <td>...</td>\n",
       "      <td>...</td>\n",
       "      <td>...</td>\n",
       "    </tr>\n",
       "    <tr>\n",
       "      <th>504371</th>\n",
       "      <td>504371</td>\n",
       "      <td>pringles potato crisps hot &amp; spicy</td>\n",
       "      <td>aspartam</td>\n",
       "      <td>nissin mie goreng gekikara ramen pedas</td>\n",
       "      <td>kriuk bawang</td>\n",
       "      <td>0.017857</td>\n",
       "      <td>0</td>\n",
       "      <td>http://halal.addi.is.its.ac.id/foodproducts/Pr...</td>\n",
       "      <td>aspartam</td>\n",
       "      <td>http://halal.addi.is.its.ac.id/foodproducts/Ni...</td>\n",
       "      <td>kriuk bawang</td>\n",
       "      <td>0.017857</td>\n",
       "      <td>0</td>\n",
       "      <td>0</td>\n",
       "    </tr>\n",
       "    <tr>\n",
       "      <th>504372</th>\n",
       "      <td>504372</td>\n",
       "      <td>pringles potato crisps hot &amp; spicy</td>\n",
       "      <td>aspartam</td>\n",
       "      <td>indomie mi instan ayam bawang</td>\n",
       "      <td>bawang merah</td>\n",
       "      <td>0.017857</td>\n",
       "      <td>0</td>\n",
       "      <td>http://halal.addi.is.its.ac.id/foodproducts/Pr...</td>\n",
       "      <td>aspartam</td>\n",
       "      <td>http://halal.addi.is.its.ac.id/foodproducts/In...</td>\n",
       "      <td>bawang merah</td>\n",
       "      <td>0.017857</td>\n",
       "      <td>0</td>\n",
       "      <td>0</td>\n",
       "    </tr>\n",
       "    <tr>\n",
       "      <th>504373</th>\n",
       "      <td>504373</td>\n",
       "      <td>indomie mi instan ayam bawang</td>\n",
       "      <td>bawang merah</td>\n",
       "      <td>pringles potato crisps hot &amp; spicy</td>\n",
       "      <td>aspartam</td>\n",
       "      <td>0.017857</td>\n",
       "      <td>0</td>\n",
       "      <td>http://halal.addi.is.its.ac.id/foodproducts/In...</td>\n",
       "      <td>bawang merah</td>\n",
       "      <td>http://halal.addi.is.its.ac.id/foodproducts/Pr...</td>\n",
       "      <td>aspartam</td>\n",
       "      <td>0.017857</td>\n",
       "      <td>0</td>\n",
       "      <td>0</td>\n",
       "    </tr>\n",
       "    <tr>\n",
       "      <th>504374</th>\n",
       "      <td>504374</td>\n",
       "      <td>pringles potato crisps hot &amp; spicy</td>\n",
       "      <td>aspartam</td>\n",
       "      <td>indomie mi instan soto mie</td>\n",
       "      <td>minyak sayur</td>\n",
       "      <td>0.017241</td>\n",
       "      <td>0</td>\n",
       "      <td>http://halal.addi.is.its.ac.id/foodproducts/Pr...</td>\n",
       "      <td>aspartam</td>\n",
       "      <td>http://halal.addi.is.its.ac.id/foodproducts/In...</td>\n",
       "      <td>minyak sayur</td>\n",
       "      <td>0.017241</td>\n",
       "      <td>0</td>\n",
       "      <td>0</td>\n",
       "    </tr>\n",
       "    <tr>\n",
       "      <th>504375</th>\n",
       "      <td>504375</td>\n",
       "      <td>indomie mi instan soto mie</td>\n",
       "      <td>minyak sayur</td>\n",
       "      <td>pringles potato crisps hot &amp; spicy</td>\n",
       "      <td>aspartam</td>\n",
       "      <td>0.017241</td>\n",
       "      <td>0</td>\n",
       "      <td>http://halal.addi.is.its.ac.id/foodproducts/In...</td>\n",
       "      <td>minyak sayur</td>\n",
       "      <td>http://halal.addi.is.its.ac.id/foodproducts/Pr...</td>\n",
       "      <td>aspartam</td>\n",
       "      <td>0.017241</td>\n",
       "      <td>0</td>\n",
       "      <td>0</td>\n",
       "    </tr>\n",
       "  </tbody>\n",
       "</table>\n",
       "<p>504376 rows × 14 columns</p>\n",
       "</div>"
      ],
      "text/plain": [
       "        Unnamed: 0                                  from    Ingredient1_x  \\\n",
       "0                0            dua kelinci kacang sangrai             gula   \n",
       "1                1                        ensure vanilla          vitamin   \n",
       "2                2  Sarimi Goreng Rasa Ayam Kremes Isi 2     Chili Powder   \n",
       "3                3       gery wafer roll chocolatos dark  perisa sintetik   \n",
       "4                4                           regal marie         soda kue   \n",
       "...            ...                                   ...              ...   \n",
       "504371      504371    pringles potato crisps hot & spicy         aspartam   \n",
       "504372      504372    pringles potato crisps hot & spicy         aspartam   \n",
       "504373      504373         indomie mi instan ayam bawang     bawang merah   \n",
       "504374      504374    pringles potato crisps hot & spicy         aspartam   \n",
       "504375      504375            indomie mi instan soto mie     minyak sayur   \n",
       "\n",
       "                                            to    Ingredient2_x  similarity_x  \\\n",
       "0                        indomaret kacang bali            garam      1.000000   \n",
       "1           ensure nutrition powder fos vanila          vitamin      1.000000   \n",
       "2          Sarimi Goreng Rasa Ayam Kecap Isi 2    Vegetable Oil      1.000000   \n",
       "3                   chocolatos wafer roll dark  perisa sintetik      1.000000   \n",
       "4                          regal marie special         soda kue      1.000000   \n",
       "...                                        ...              ...           ...   \n",
       "504371  nissin mie goreng gekikara ramen pedas     kriuk bawang      0.017857   \n",
       "504372           indomie mi instan ayam bawang     bawang merah      0.017857   \n",
       "504373      pringles potato crisps hot & spicy         aspartam      0.017857   \n",
       "504374              indomie mi instan soto mie     minyak sayur      0.017241   \n",
       "504375      pringles potato crisps hot & spicy         aspartam      0.017241   \n",
       "\n",
       "        LabelingANN                                            URIFrom  \\\n",
       "0                 1  http://halal.addi.is.its.ac.id/foodproducts/Du...   \n",
       "1                 1  http://halal.addi.is.its.ac.id/foodproducts/En...   \n",
       "2                 1  http://halal.addi.is.its.ac.id/foodproducts/Sa...   \n",
       "3                 1  http://halal.addi.is.its.ac.id/foodproducts/Ge...   \n",
       "4                 1  http://halal.addi.is.its.ac.id/foodproducts/Re...   \n",
       "...             ...                                                ...   \n",
       "504371            0  http://halal.addi.is.its.ac.id/foodproducts/Pr...   \n",
       "504372            0  http://halal.addi.is.its.ac.id/foodproducts/Pr...   \n",
       "504373            0  http://halal.addi.is.its.ac.id/foodproducts/In...   \n",
       "504374            0  http://halal.addi.is.its.ac.id/foodproducts/Pr...   \n",
       "504375            0  http://halal.addi.is.its.ac.id/foodproducts/In...   \n",
       "\n",
       "          Ingredient1_y                                              URITo  \\\n",
       "0                  gula  http://halal.addi.is.its.ac.id/foodproducts/In...   \n",
       "1               vitamin  http://halal.addi.is.its.ac.id/foodproducts/En...   \n",
       "2          Chili Powder  http://halal.addi.is.its.ac.id/foodproducts/Sa...   \n",
       "3       perisa sintetik  http://halal.addi.is.its.ac.id/foodproducts/Ch...   \n",
       "4              soda kue  http://halal.addi.is.its.ac.id/foodproducts/Re...   \n",
       "...                 ...                                                ...   \n",
       "504371         aspartam  http://halal.addi.is.its.ac.id/foodproducts/Ni...   \n",
       "504372         aspartam  http://halal.addi.is.its.ac.id/foodproducts/In...   \n",
       "504373     bawang merah  http://halal.addi.is.its.ac.id/foodproducts/Pr...   \n",
       "504374         aspartam  http://halal.addi.is.its.ac.id/foodproducts/In...   \n",
       "504375     minyak sayur  http://halal.addi.is.its.ac.id/foodproducts/Pr...   \n",
       "\n",
       "          Ingredient2_y  similarity_y  Labeling  TrueFalse  \n",
       "0                 garam      1.000000         1          1  \n",
       "1               vitamin      1.000000         1          1  \n",
       "2         Vegetable Oil      1.000000         1          1  \n",
       "3       perisa sintetik      1.000000         1          1  \n",
       "4              soda kue      1.000000         1          1  \n",
       "...                 ...           ...       ...        ...  \n",
       "504371     kriuk bawang      0.017857         0          0  \n",
       "504372     bawang merah      0.017857         0          0  \n",
       "504373         aspartam      0.017857         0          0  \n",
       "504374     minyak sayur      0.017241         0          0  \n",
       "504375         aspartam      0.017241         0          0  \n",
       "\n",
       "[504376 rows x 14 columns]"
      ]
     },
     "execution_count": 27,
     "metadata": {},
     "output_type": "execute_result"
    }
   ],
   "source": [
    "dfann = pd.read_csv('Labeling_ANN_benar.csv')\n",
    "dfann"
   ]
  },
  {
   "cell_type": "code",
   "execution_count": 28,
   "metadata": {},
   "outputs": [],
   "source": [
    "dfann['LabelingJaccard'] = np.where(dfann['similarity_y'] >= 0.42, 1, 0)"
   ]
  },
  {
   "cell_type": "code",
   "execution_count": 29,
   "metadata": {},
   "outputs": [],
   "source": [
    "#index_names = dfann[ dfann['similarity_y'] >= 0.4 ].index\n",
    "#dfann.drop(index_names, inplace = True)\n",
    "#dfann"
   ]
  },
  {
   "cell_type": "code",
   "execution_count": 30,
   "metadata": {},
   "outputs": [],
   "source": [
    "X_ANN = pd.to_numeric(dfann['LabelingANN'], downcast=\"float\")\n",
    "y = pd.to_numeric(dfann['Labeling'], downcast=\"float\")\n",
    "X_Jaccard = dfann['LabelingJaccard']"
   ]
  },
  {
   "cell_type": "code",
   "execution_count": 31,
   "metadata": {},
   "outputs": [],
   "source": [
    "#X = X.values.reshape(-1,1)"
   ]
  },
  {
   "cell_type": "code",
   "execution_count": 32,
   "metadata": {},
   "outputs": [],
   "source": [
    "#over = SMOTE(sampling_strategy=0.005)\n",
    "#under = RandomUnderSampler(sampling_strategy=1)\n",
    "#steps = [('o', over), ('u', under)]\n",
    "#pipeline = Pipeline(steps=steps)"
   ]
  },
  {
   "cell_type": "code",
   "execution_count": null,
   "metadata": {},
   "outputs": [],
   "source": []
  },
  {
   "cell_type": "code",
   "execution_count": 33,
   "metadata": {},
   "outputs": [],
   "source": [
    "#X, y = pipeline.fit_resample(X, y)"
   ]
  },
  {
   "cell_type": "code",
   "execution_count": 34,
   "metadata": {},
   "outputs": [],
   "source": [
    "#counter = Counter(y)\n",
    "#print(counter)"
   ]
  },
  {
   "cell_type": "code",
   "execution_count": 35,
   "metadata": {},
   "outputs": [],
   "source": [
    "#X_train,X_test,y_train,y_test = train_test_split(X,y,test_size=0.3,random_state=0) "
   ]
  },
  {
   "cell_type": "code",
   "execution_count": 36,
   "metadata": {},
   "outputs": [],
   "source": [
    "#X_train= X_train.values.reshape(-1,1)"
   ]
  },
  {
   "cell_type": "code",
   "execution_count": 37,
   "metadata": {},
   "outputs": [],
   "source": [
    "#X_test= X_test.values.reshape(-1,1)"
   ]
  },
  {
   "cell_type": "code",
   "execution_count": 38,
   "metadata": {},
   "outputs": [],
   "source": [
    "#log_regression = LogisticRegression()"
   ]
  },
  {
   "cell_type": "code",
   "execution_count": 39,
   "metadata": {},
   "outputs": [],
   "source": [
    "#log_regression.fit(X_train,y_train)"
   ]
  },
  {
   "cell_type": "code",
   "execution_count": 40,
   "metadata": {},
   "outputs": [],
   "source": [
    "from sklearn.metrics import roc_curve, roc_auc_score"
   ]
  },
  {
   "cell_type": "code",
   "execution_count": 41,
   "metadata": {},
   "outputs": [],
   "source": [
    "ann_auc = roc_auc_score(X_ANN,  y)\n",
    "j_auc = roc_auc_score(X_Jaccard,  y)"
   ]
  },
  {
   "cell_type": "markdown",
   "metadata": {},
   "source": [
    "# ROC"
   ]
  },
  {
   "cell_type": "code",
   "execution_count": 42,
   "metadata": {},
   "outputs": [
    {
     "data": {
      "image/png": "[encoded data removed]",
      "text/plain": [
       "<Figure size 432x288 with 1 Axes>"
      ]
     },
     "metadata": {
      "needs_background": "light"
     },
     "output_type": "display_data"
    }
   ],
   "source": [
    "#define metrics\n",
    "#y_pred_proba = log_regression.predict_proba(X)[::,1]\n",
    "ann_fpr, ann_tpr, _ = metrics.roc_curve(X_ANN,  y)\n",
    "j_fpr, j_tpr, _ = metrics.roc_curve(X_Jaccard,  y)\n",
    "\n",
    "#create ROC curve\n",
    "plt.plot(ann_fpr,ann_tpr, linestyle='--', label='ANN (AUROC = %0.3f)' % ann_auc)\n",
    "plt.plot(j_fpr, j_tpr, marker='.', label='Jaccard (AUROC = %0.3f)' % j_auc)\n",
    "plt.ylabel('True Positive Rate')\n",
    "plt.xlabel('False Positive Rate')\n",
    "plt.show()"
   ]
  },
  {
   "cell_type": "markdown",
   "metadata": {},
   "source": [
    "# AUC"
   ]
  },
  {
   "cell_type": "code",
   "execution_count": 43,
   "metadata": {},
   "outputs": [
    {
     "data": {
      "image/png": "[encoded data removed]",
      "text/plain": [
       "<Figure size 432x288 with 1 Axes>"
      ]
     },
     "metadata": {
      "needs_background": "light"
     },
     "output_type": "display_data"
    }
   ],
   "source": [
    "#define metrics\n",
    "#y_pred_proba = log_regression.predict_proba(X_test)[::,1]\n",
    "ann_fpr, ann_tpr, _ = metrics.roc_curve(X_ANN,  y)\n",
    "j_fpr, j_tpr, _ = metrics.roc_curve(X_Jaccard,  y)\n",
    "\n",
    "#auc = metrics.roc_auc_score(X,  y)\n",
    "plt.title('ROC Plot')\n",
    "\n",
    "#create ROC curve\n",
    "plt.plot(ann_fpr,ann_tpr, linestyle='--', label='ANN (AUROC = %0.3f)' % ann_auc)\n",
    "plt.plot(j_fpr, j_tpr, marker='.', label='Jaccard (AUROC = %0.3f)' % j_auc)\n",
    "plt.ylabel('True Positive Rate')\n",
    "plt.xlabel('False Positive Rate')\n",
    "plt.legend(loc=4)\n",
    "plt.show()"
   ]
  },
  {
   "cell_type": "code",
   "execution_count": 44,
   "metadata": {},
   "outputs": [
    {
     "data": {
      "text/plain": [
       "0.9314685314685315"
      ]
     },
     "execution_count": 44,
     "metadata": {},
     "output_type": "execute_result"
    }
   ],
   "source": [
    "from sklearn.metrics import confusion_matrix\n",
    "cm = metrics.confusion_matrix(X_ANN,y)\n",
    "specificity = cm[1,1]/(cm[1,0]+cm[1,1])\n",
    "specificity"
   ]
  },
  {
   "cell_type": "code",
   "execution_count": 45,
   "metadata": {},
   "outputs": [
    {
     "data": {
      "text/plain": [
       "0.9314685314685315"
      ]
     },
     "execution_count": 45,
     "metadata": {},
     "output_type": "execute_result"
    }
   ],
   "source": [
    "from sklearn.metrics import confusion_matrix\n",
    "cm = metrics.confusion_matrix(X_Jaccard,y)\n",
    "specificity = cm[1,1]/(cm[1,0]+cm[1,1])\n",
    "specificity"
   ]
  },
  {
   "cell_type": "code",
   "execution_count": 46,
   "metadata": {},
   "outputs": [
    {
     "name": "stdout",
     "output_type": "stream",
     "text": [
      "Accuracy: 0.999805700509144\n",
      "F1 Score 0.9645184648805213\n",
      "Precision 1.0\n",
      "Recall 0.9314685314685315\n"
     ]
    }
   ],
   "source": [
    "print(\"Accuracy:\",metrics.accuracy_score(X_ANN,y))\n",
    "print(\"F1 Score\",metrics.f1_score(X_ANN,y))\n",
    "print(\"Precision\",metrics.precision_score(X_ANN,y))\n",
    "print(\"Recall\",metrics.recall_score(X_ANN,y))"
   ]
  },
  {
   "cell_type": "code",
   "execution_count": 47,
   "metadata": {},
   "outputs": [
    {
     "name": "stdout",
     "output_type": "stream",
     "text": [
      "Accuracy: 0.999805700509144\n",
      "F1 Score 0.9645184648805213\n",
      "Precision 1.0\n",
      "Recall 0.9314685314685315\n"
     ]
    }
   ],
   "source": [
    "print(\"Accuracy:\",metrics.accuracy_score(X_Jaccard,y))\n",
    "print(\"F1 Score\",metrics.f1_score(X_Jaccard,y))\n",
    "print(\"Precision\",metrics.precision_score(X_Jaccard,y))\n",
    "print(\"Recall\",metrics.recall_score(X_Jaccard,y))"
   ]
  },
  {
   "cell_type": "code",
   "execution_count": 48,
   "metadata": {},
   "outputs": [
    {
     "data": {
      "text/plain": [
       "0.013939135"
      ]
     },
     "execution_count": 48,
     "metadata": {},
     "output_type": "execute_result"
    }
   ],
   "source": [
    "from sklearn.metrics import mean_squared_error\n",
    "import math\n",
    "\n",
    "rms = mean_squared_error(X_ANN, y, squared=False)\n",
    "rms"
   ]
  },
  {
   "cell_type": "code",
   "execution_count": 49,
   "metadata": {},
   "outputs": [
    {
     "data": {
      "text/plain": [
       "0.013939135226262354"
      ]
     },
     "execution_count": 49,
     "metadata": {},
     "output_type": "execute_result"
    }
   ],
   "source": [
    "from sklearn.metrics import mean_squared_error\n",
    "import math\n",
    "\n",
    "rms = mean_squared_error(X_Jaccard, y, squared=False)\n",
    "rms"
   ]
  },
  {
   "cell_type": "code",
   "execution_count": 50,
   "metadata": {},
   "outputs": [
    {
     "name": "stdout",
     "output_type": "stream",
     "text": [
      "Root Mean Square Error:\n",
      "\n",
      "0.01393913504790292\n"
     ]
    }
   ],
   "source": [
    "MSE = np.square(np.subtract(X_ANN,y)).mean() \n",
    "\n",
    "RMSE = math.sqrt(MSE)\n",
    "print(\"Root Mean Square Error:\\n\")\n",
    "print(RMSE)"
   ]
  },
  {
   "cell_type": "code",
   "execution_count": 51,
   "metadata": {},
   "outputs": [],
   "source": [
    "from sklearn.metrics import roc_curve, roc_auc_score"
   ]
  },
  {
   "cell_type": "code",
   "execution_count": 133,
   "metadata": {},
   "outputs": [
    {
     "ename": "NameError",
     "evalue": "name 'X' is not defined",
     "output_type": "error",
     "traceback": [
      "\u001b[1;31m---------------------------------------------------------------------------\u001b[0m",
      "\u001b[1;31mNameError\u001b[0m                                 Traceback (most recent call last)",
      "\u001b[1;32m<ipython-input-133-1c9e8d6af0c9>\u001b[0m in \u001b[0;36m<module>\u001b[1;34m\u001b[0m\n\u001b[1;32m----> 1\u001b[1;33m \u001b[0mX\u001b[0m \u001b[1;33m=\u001b[0m \u001b[0mX\u001b[0m\u001b[1;33m.\u001b[0m\u001b[0mvalues\u001b[0m\u001b[1;33m.\u001b[0m\u001b[0mreshape\u001b[0m\u001b[1;33m(\u001b[0m\u001b[1;33m-\u001b[0m\u001b[1;36m1\u001b[0m\u001b[1;33m,\u001b[0m\u001b[1;36m1\u001b[0m\u001b[1;33m)\u001b[0m\u001b[1;33m\u001b[0m\u001b[1;33m\u001b[0m\u001b[0m\n\u001b[0m",
      "\u001b[1;31mNameError\u001b[0m: name 'X' is not defined"
     ]
    }
   ],
   "source": [
    "X = X.values.reshape(-1,1)"
   ]
  },
  {
   "cell_type": "code",
   "execution_count": 134,
   "metadata": {},
   "outputs": [
    {
     "ename": "NameError",
     "evalue": "name 'X' is not defined",
     "output_type": "error",
     "traceback": [
      "\u001b[1;31m---------------------------------------------------------------------------\u001b[0m",
      "\u001b[1;31mNameError\u001b[0m                                 Traceback (most recent call last)",
      "\u001b[1;32m<ipython-input-134-d3156a7ac834>\u001b[0m in \u001b[0;36m<module>\u001b[1;34m\u001b[0m\n\u001b[1;32m----> 1\u001b[1;33m X_train, X_test, Y_train, Y_test = train_test_split(X, y, test_size=.2,\n\u001b[0m\u001b[0;32m      2\u001b[0m                                                     random_state=0)\n",
      "\u001b[1;31mNameError\u001b[0m: name 'X' is not defined"
     ]
    }
   ],
   "source": [
    "X_train, X_test, Y_train, Y_test = train_test_split(X, y, test_size=.2,\n",
    "                                                    random_state=0)"
   ]
  },
  {
   "cell_type": "code",
   "execution_count": 135,
   "metadata": {},
   "outputs": [],
   "source": [
    "from sklearn.ensemble import RandomForestClassifier\n",
    "from sklearn.naive_bayes import GaussianNB"
   ]
  },
  {
   "cell_type": "code",
   "execution_count": 136,
   "metadata": {},
   "outputs": [
    {
     "ename": "NameError",
     "evalue": "name 'X_train' is not defined",
     "output_type": "error",
     "traceback": [
      "\u001b[1;31m---------------------------------------------------------------------------\u001b[0m",
      "\u001b[1;31mNameError\u001b[0m                                 Traceback (most recent call last)",
      "\u001b[1;32m<ipython-input-136-9d7b2dd0990e>\u001b[0m in \u001b[0;36m<module>\u001b[1;34m\u001b[0m\n\u001b[0;32m      1\u001b[0m \u001b[0mnb\u001b[0m \u001b[1;33m=\u001b[0m \u001b[0mGaussianNB\u001b[0m\u001b[1;33m(\u001b[0m\u001b[1;33m)\u001b[0m\u001b[1;33m\u001b[0m\u001b[1;33m\u001b[0m\u001b[0m\n\u001b[1;32m----> 2\u001b[1;33m \u001b[0mnb\u001b[0m\u001b[1;33m.\u001b[0m\u001b[0mfit\u001b[0m\u001b[1;33m(\u001b[0m\u001b[0mX_train\u001b[0m\u001b[1;33m,\u001b[0m \u001b[0mY_train\u001b[0m\u001b[1;33m)\u001b[0m\u001b[1;33m\u001b[0m\u001b[1;33m\u001b[0m\u001b[0m\n\u001b[0m",
      "\u001b[1;31mNameError\u001b[0m: name 'X_train' is not defined"
     ]
    }
   ],
   "source": [
    "nb = GaussianNB()\n",
    "nb.fit(X_train, Y_train)"
   ]
  },
  {
   "cell_type": "code",
   "execution_count": 68,
   "metadata": {},
   "outputs": [
    {
     "ename": "NameError",
     "evalue": "name 'X_test' is not defined",
     "output_type": "error",
     "traceback": [
      "\u001b[1;31m---------------------------------------------------------------------------\u001b[0m",
      "\u001b[1;31mNameError\u001b[0m                                 Traceback (most recent call last)",
      "\u001b[1;32m<ipython-input-68-98c5ba98778e>\u001b[0m in \u001b[0;36m<module>\u001b[1;34m\u001b[0m\n\u001b[1;32m----> 1\u001b[1;33m \u001b[0mnb_probs\u001b[0m \u001b[1;33m=\u001b[0m \u001b[0mnb\u001b[0m\u001b[1;33m.\u001b[0m\u001b[0mpredict_proba\u001b[0m\u001b[1;33m(\u001b[0m\u001b[0mX_test\u001b[0m\u001b[1;33m)\u001b[0m\u001b[1;33m\u001b[0m\u001b[1;33m\u001b[0m\u001b[0m\n\u001b[0m",
      "\u001b[1;31mNameError\u001b[0m: name 'X_test' is not defined"
     ]
    }
   ],
   "source": [
    "nb_probs = nb.predict_proba(X_test)"
   ]
  },
  {
   "cell_type": "code",
   "execution_count": 69,
   "metadata": {},
   "outputs": [],
   "source": [
    "from sklearn.metrics import roc_curve, roc_auc_score"
   ]
  },
  {
   "cell_type": "code",
   "execution_count": 70,
   "metadata": {},
   "outputs": [
    {
     "ename": "NameError",
     "evalue": "name 'Y_test' is not defined",
     "output_type": "error",
     "traceback": [
      "\u001b[1;31m---------------------------------------------------------------------------\u001b[0m",
      "\u001b[1;31mNameError\u001b[0m                                 Traceback (most recent call last)",
      "\u001b[1;32m<ipython-input-70-0ed1477e7437>\u001b[0m in \u001b[0;36m<module>\u001b[1;34m\u001b[0m\n\u001b[1;32m----> 1\u001b[1;33m \u001b[0mnb_auc\u001b[0m \u001b[1;33m=\u001b[0m \u001b[0mroc_auc_score\u001b[0m\u001b[1;33m(\u001b[0m\u001b[0mY_test\u001b[0m\u001b[1;33m,\u001b[0m \u001b[0mnb_probs\u001b[0m\u001b[1;33m)\u001b[0m\u001b[1;33m\u001b[0m\u001b[1;33m\u001b[0m\u001b[0m\n\u001b[0m",
      "\u001b[1;31mNameError\u001b[0m: name 'Y_test' is not defined"
     ]
    }
   ],
   "source": [
    "nb_auc = roc_auc_score(Y_test, nb_probs)"
   ]
  },
  {
   "cell_type": "code",
   "execution_count": null,
   "metadata": {},
   "outputs": [],
   "source": []
  }
 ],
 "metadata": {
  "kernelspec": {
   "display_name": "Python 3",
   "language": "python",
   "name": "python3"
  },
  "language_info": {
   "codemirror_mode": {
    "name": "ipython",
    "version": 3
   },
   "file_extension": ".py",
   "mimetype": "text/x-python",
   "name": "python",
   "nbconvert_exporter": "python",
   "pygments_lexer": "ipython3",
   "version": "3.7.6"
  }
 },
 "nbformat": 4,
 "nbformat_minor": 4
}
